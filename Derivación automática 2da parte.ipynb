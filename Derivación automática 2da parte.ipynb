{
 "cells": [
  {
   "cell_type": "code",
   "execution_count": 10,
   "id": "answering-diploma",
   "metadata": {},
   "outputs": [],
   "source": [
    "import sympy as sy\n",
    "import numpy as np\n"
   ]
  },
  {
   "cell_type": "code",
   "execution_count": 11,
   "id": "medical-failing",
   "metadata": {},
   "outputs": [],
   "source": [
    "def g(x):\n",
    "    return np.exp(np.sin(2*x))\n"
   ]
  },
  {
   "cell_type": "code",
   "execution_count": 16,
   "id": "centered-earthquake",
   "metadata": {},
   "outputs": [],
   "source": [
    "def gp(x):\n",
    "    return [np.exp(x[0]),x[1]*np.exp(x[0])]"
   ]
  },
  {
   "cell_type": "code",
   "execution_count": 17,
   "id": "hydraulic-proxy",
   "metadata": {},
   "outputs": [],
   "source": [
    "def si(z):\n",
    "    return [np.sin(z[0]), z[1]*np.cos(z[0])]"
   ]
  },
  {
   "cell_type": "code",
   "execution_count": 32,
   "id": "sporting-parcel",
   "metadata": {},
   "outputs": [],
   "source": [
    "def fg(z):\n",
    "    Z=np.array([z,1])\n",
    "    return gp((si(Z*2)))"
   ]
  },
  {
   "cell_type": "code",
   "execution_count": 33,
   "id": "young-creek",
   "metadata": {},
   "outputs": [
    {
     "data": {
      "text/plain": [
       "[2.319776824715853, 2.506761534986894]"
      ]
     },
     "execution_count": 33,
     "metadata": {},
     "output_type": "execute_result"
    }
   ],
   "source": [
    "fg(0.5)"
   ]
  },
  {
   "cell_type": "code",
   "execution_count": null,
   "id": "viral-polish",
   "metadata": {},
   "outputs": [],
   "source": []
  }
 ],
 "metadata": {
  "kernelspec": {
   "display_name": "Python 3",
   "language": "python",
   "name": "python3"
  },
  "language_info": {
   "codemirror_mode": {
    "name": "ipython",
    "version": 3
   },
   "file_extension": ".py",
   "mimetype": "text/x-python",
   "name": "python",
   "nbconvert_exporter": "python",
   "pygments_lexer": "ipython3",
   "version": "3.9.2"
  }
 },
 "nbformat": 4,
 "nbformat_minor": 5
}
