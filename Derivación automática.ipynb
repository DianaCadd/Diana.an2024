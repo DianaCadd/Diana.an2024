{
 "cells": [
  {
   "cell_type": "markdown",
   "id": "empty-immigration",
   "metadata": {},
   "source": [
    "### Número dual o número de Grassman\n"
   ]
  },
  {
   "cell_type": "code",
   "execution_count": 14,
   "id": "greatest-colombia",
   "metadata": {},
   "outputs": [],
   "source": [
    "import sympy as sy \n",
    "import numpy as np\n"
   ]
  },
  {
   "cell_type": "code",
   "execution_count": 15,
   "id": "comic-reputation",
   "metadata": {},
   "outputs": [],
   "source": [
    "def gp(x,y):\n",
    "    return [x[0]*y[0],x[0]*y[1]+x[1]*y[0]]\n"
   ]
  },
  {
   "cell_type": "code",
   "execution_count": 19,
   "id": "animal-semester",
   "metadata": {},
   "outputs": [],
   "source": [
    "def ginv(z):\n",
    "    return [1/(z[0]),-z[1]/z[0]**2]"
   ]
  },
  {
   "cell_type": "code",
   "execution_count": 20,
   "id": "continuing-alcohol",
   "metadata": {},
   "outputs": [],
   "source": [
    "def fg(z):\n",
    "    Z=np.array([z,1])\n",
    "    return gp(gp(Z+[2,0],Z-[3,0]), ginv(Z-[4,0]))"
   ]
  },
  {
   "cell_type": "code",
   "execution_count": 21,
   "id": "failing-dublin",
   "metadata": {},
   "outputs": [
    {
     "data": {
      "text/plain": [
       "[12.0, -0.5]"
      ]
     },
     "execution_count": 21,
     "metadata": {},
     "output_type": "execute_result"
    }
   ],
   "source": [
    "fg(6)"
   ]
  },
  {
   "cell_type": "code",
   "execution_count": null,
   "id": "collective-cooperative",
   "metadata": {},
   "outputs": [],
   "source": []
  }
 ],
 "metadata": {
  "kernelspec": {
   "display_name": "Python 3",
   "language": "python",
   "name": "python3"
  },
  "language_info": {
   "codemirror_mode": {
    "name": "ipython",
    "version": 3
   },
   "file_extension": ".py",
   "mimetype": "text/x-python",
   "name": "python",
   "nbconvert_exporter": "python",
   "pygments_lexer": "ipython3",
   "version": "3.9.2"
  }
 },
 "nbformat": 4,
 "nbformat_minor": 5
}
