{
 "cells": [
  {
   "cell_type": "code",
   "execution_count": 97,
   "id": "proud-bankruptcy",
   "metadata": {},
   "outputs": [],
   "source": [
    "import numpy as np\n",
    "import sympy as sy \n",
    "import matplotlib.pyplot as plt"
   ]
  },
  {
   "cell_type": "code",
   "execution_count": 98,
   "id": "removed-prediction",
   "metadata": {},
   "outputs": [],
   "source": [
    "x=0.5\n",
    "def funcion(x):\n",
    "    return np.exp(np.sin(2*x))"
   ]
  },
  {
   "cell_type": "code",
   "execution_count": 99,
   "id": "expired-snapshot",
   "metadata": {},
   "outputs": [],
   "source": [
    "def derivada(x):\n",
    "    return 2*np.cos(2*x)*np.exp(np.sin(2*x))"
   ]
  },
  {
   "cell_type": "code",
   "execution_count": 100,
   "id": "developing-equivalent",
   "metadata": {},
   "outputs": [],
   "source": [
    "def deriv(x,h):\n",
    "    return ((funcion(x+h))-funcion(x))/h"
   ]
  },
  {
   "cell_type": "code",
   "execution_count": 101,
   "id": "small-throat",
   "metadata": {},
   "outputs": [],
   "source": [
    "def central(x,h):\n",
    "    return ((funcion(x+(h/2))-funcion(x-(h/2))))/h"
   ]
  },
  {
   "cell_type": "code",
   "execution_count": 102,
   "id": "wound-jewel",
   "metadata": {},
   "outputs": [
    {
     "data": {
      "text/plain": [
       "2.319776824715853"
      ]
     },
     "execution_count": 102,
     "metadata": {},
     "output_type": "execute_result"
    }
   ],
   "source": [
    "funcion(x)"
   ]
  },
  {
   "cell_type": "code",
   "execution_count": 109,
   "id": "voluntary-accreditation",
   "metadata": {},
   "outputs": [],
   "source": [
    "def dif(x):\n",
    "    for i in range(1,15):\n",
    "        h=10**-i\n",
    "        e=derivada(x)-deriv(x,h)\n",
    "        print (h,e)\n",
    "        return e\n",
    "    "
   ]
  },
  {
   "cell_type": "code",
   "execution_count": 110,
   "id": "affected-notice",
   "metadata": {},
   "outputs": [
    {
     "name": "stdout",
     "output_type": "stream",
     "text": [
      "0.1 [ 0.31423774  0.34236561  0.36949946  0.39539785  0.41982417  0.44254994\n",
      "  0.46335813  0.48204635  0.49842994  0.5123448   0.52365     0.53222999\n",
      "  0.53799644  0.54088974  0.54087987  0.53796699  0.53218135  0.52358287\n",
      "  0.5122601   0.49832884  0.48193022  0.46322853  0.44240857  0.41967284\n",
      "  0.39523847  0.36933397  0.34219597  0.31406587  0.28518659  0.25579936\n",
      "  0.22614077  0.19643996  0.16691603  0.13777586  0.1092121   0.08140162\n",
      "  0.05450418  0.02866151  0.00399673 -0.01938594 -0.04140117 -0.06198222\n",
      " -0.08108036 -0.09866412 -0.11471833 -0.12924298 -0.14225201 -0.15377196\n",
      " -0.16384061 -0.17250551]\n"
     ]
    },
    {
     "data": {
      "text/plain": [
       "array([ 0.31423774,  0.34236561,  0.36949946,  0.39539785,  0.41982417,\n",
       "        0.44254994,  0.46335813,  0.48204635,  0.49842994,  0.5123448 ,\n",
       "        0.52365   ,  0.53222999,  0.53799644,  0.54088974,  0.54087987,\n",
       "        0.53796699,  0.53218135,  0.52358287,  0.5122601 ,  0.49832884,\n",
       "        0.48193022,  0.46322853,  0.44240857,  0.41967284,  0.39523847,\n",
       "        0.36933397,  0.34219597,  0.31406587,  0.28518659,  0.25579936,\n",
       "        0.22614077,  0.19643996,  0.16691603,  0.13777586,  0.1092121 ,\n",
       "        0.08140162,  0.05450418,  0.02866151,  0.00399673, -0.01938594,\n",
       "       -0.04140117, -0.06198222, -0.08108036, -0.09866412, -0.11471833,\n",
       "       -0.12924298, -0.14225201, -0.15377196, -0.16384061, -0.17250551])"
      ]
     },
     "execution_count": 110,
     "metadata": {},
     "output_type": "execute_result"
    }
   ],
   "source": [
    "dif(x)"
   ]
  },
  {
   "cell_type": "code",
   "execution_count": 113,
   "id": "complimentary-climate",
   "metadata": {},
   "outputs": [
    {
     "name": "stdout",
     "output_type": "stream",
     "text": [
      "0.1 [ 0.31423774  0.34236561  0.36949946  0.39539785  0.41982417  0.44254994\n",
      "  0.46335813  0.48204635  0.49842994  0.5123448   0.52365     0.53222999\n",
      "  0.53799644  0.54088974  0.54087987  0.53796699  0.53218135  0.52358287\n",
      "  0.5122601   0.49832884  0.48193022  0.46322853  0.44240857  0.41967284\n",
      "  0.39523847  0.36933397  0.34219597  0.31406587  0.28518659  0.25579936\n",
      "  0.22614077  0.19643996  0.16691603  0.13777586  0.1092121   0.08140162\n",
      "  0.05450418  0.02866151  0.00399673 -0.01938594 -0.04140117 -0.06198222\n",
      " -0.08108036 -0.09866412 -0.11471833 -0.12924298 -0.14225201 -0.15377196\n",
      " -0.16384061 -0.17250551]\n"
     ]
    },
    {
     "data": {
      "image/png": "[encoded data removed]",
      "text/plain": [
       "<Figure size 432x288 with 1 Axes>"
      ]
     },
     "metadata": {
      "needs_background": "light"
     },
     "output_type": "display_data"
    }
   ],
   "source": [
    "\n",
    "x=np.linspace(1**-15,0.1)\n",
    "#err=[dif(h) for h in x]\n",
    "err=dif(x)\n",
    "plt.plot(x,err, 'bp')\n",
    "plt.show()"
   ]
  },
  {
   "cell_type": "code",
   "execution_count": 114,
   "id": "charged-timing",
   "metadata": {},
   "outputs": [
    {
     "data": {
      "text/plain": [
       "array([1.        , 0.98163265, 0.96326531, 0.94489796, 0.92653061,\n",
       "       0.90816327, 0.88979592, 0.87142857, 0.85306122, 0.83469388,\n",
       "       0.81632653, 0.79795918, 0.77959184, 0.76122449, 0.74285714,\n",
       "       0.7244898 , 0.70612245, 0.6877551 , 0.66938776, 0.65102041,\n",
       "       0.63265306, 0.61428571, 0.59591837, 0.57755102, 0.55918367,\n",
       "       0.54081633, 0.52244898, 0.50408163, 0.48571429, 0.46734694,\n",
       "       0.44897959, 0.43061224, 0.4122449 , 0.39387755, 0.3755102 ,\n",
       "       0.35714286, 0.33877551, 0.32040816, 0.30204082, 0.28367347,\n",
       "       0.26530612, 0.24693878, 0.22857143, 0.21020408, 0.19183673,\n",
       "       0.17346939, 0.15510204, 0.13673469, 0.11836735, 0.1       ])"
      ]
     },
     "execution_count": 114,
     "metadata": {},
     "output_type": "execute_result"
    }
   ],
   "source": [
    "x"
   ]
  },
  {
   "cell_type": "code",
   "execution_count": null,
   "id": "inclusive-identifier",
   "metadata": {},
   "outputs": [],
   "source": []
  }
 ],
 "metadata": {
  "kernelspec": {
   "display_name": "Python 3",
   "language": "python",
   "name": "python3"
  },
  "language_info": {
   "codemirror_mode": {
    "name": "ipython",
    "version": 3
   },
   "file_extension": ".py",
   "mimetype": "text/x-python",
   "name": "python",
   "nbconvert_exporter": "python",
   "pygments_lexer": "ipython3",
   "version": "3.9.2"
  }
 },
 "nbformat": 4,
 "nbformat_minor": 5
}
