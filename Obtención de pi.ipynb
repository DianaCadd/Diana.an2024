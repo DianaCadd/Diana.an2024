{
 "cells": [
  {
   "cell_type": "code",
   "execution_count": 33,
   "id": "vietnamese-margin",
   "metadata": {},
   "outputs": [],
   "source": [
    "import mpmath as mp\n",
    "mp.mp.dps=1000"
   ]
  },
  {
   "cell_type": "code",
   "execution_count": 34,
   "id": "responsible-candidate",
   "metadata": {},
   "outputs": [],
   "source": [
    "k=240000000\n",
    "q=240000004"
   ]
  },
  {
   "cell_type": "code",
   "execution_count": 35,
   "id": "offensive-cookbook",
   "metadata": {},
   "outputs": [],
   "source": [
    "def aproxsum():\n",
    "    pi1=0\n",
    "    for i in range(1,k,4):\n",
    "        pi1+=4/i\n",
    "    return (pi1)"
   ]
  },
  {
   "cell_type": "code",
   "execution_count": 36,
   "id": "patent-tourist",
   "metadata": {},
   "outputs": [],
   "source": [
    "def aproxrest():\n",
    "    pi2=0\n",
    "    for i in range(3,q,4):\n",
    "        pi2+=4/i\n",
    "    return (pi2)"
   ]
  },
  {
   "cell_type": "code",
   "execution_count": 37,
   "id": "subtle-rough",
   "metadata": {},
   "outputs": [
    {
     "ename": "KeyboardInterrupt",
     "evalue": "",
     "output_type": "error",
     "traceback": [
      "\u001b[0;31m---------------------------------------------------------------------------\u001b[0m",
      "\u001b[0;31mKeyboardInterrupt\u001b[0m                         Traceback (most recent call last)",
      "\u001b[0;32m<ipython-input-37-3e7554f8dc61>\u001b[0m in \u001b[0;36m<module>\u001b[0;34m\u001b[0m\n\u001b[0;32m----> 1\u001b[0;31m \u001b[0maproxsum\u001b[0m\u001b[0;34m(\u001b[0m\u001b[0;34m)\u001b[0m\u001b[0;34m-\u001b[0m\u001b[0maproxrest\u001b[0m\u001b[0;34m(\u001b[0m\u001b[0;34m)\u001b[0m\u001b[0;34m\u001b[0m\u001b[0;34m\u001b[0m\u001b[0m\n\u001b[0m",
      "\u001b[0;32m<ipython-input-36-f52fa9f302c6>\u001b[0m in \u001b[0;36maproxrest\u001b[0;34m()\u001b[0m\n\u001b[1;32m      2\u001b[0m     \u001b[0mpi2\u001b[0m\u001b[0;34m=\u001b[0m\u001b[0;36m0\u001b[0m\u001b[0;34m\u001b[0m\u001b[0;34m\u001b[0m\u001b[0m\n\u001b[1;32m      3\u001b[0m     \u001b[0;32mfor\u001b[0m \u001b[0mi\u001b[0m \u001b[0;32min\u001b[0m \u001b[0mrange\u001b[0m\u001b[0;34m(\u001b[0m\u001b[0;36m3\u001b[0m\u001b[0;34m,\u001b[0m\u001b[0mq\u001b[0m\u001b[0;34m,\u001b[0m\u001b[0;36m4\u001b[0m\u001b[0;34m)\u001b[0m\u001b[0;34m:\u001b[0m\u001b[0;34m\u001b[0m\u001b[0;34m\u001b[0m\u001b[0m\n\u001b[0;32m----> 4\u001b[0;31m         \u001b[0mpi2\u001b[0m\u001b[0;34m+=\u001b[0m\u001b[0;36m4\u001b[0m\u001b[0;34m/\u001b[0m\u001b[0mi\u001b[0m\u001b[0;34m\u001b[0m\u001b[0;34m\u001b[0m\u001b[0m\n\u001b[0m\u001b[1;32m      5\u001b[0m     \u001b[0;32mreturn\u001b[0m \u001b[0;34m(\u001b[0m\u001b[0mpi2\u001b[0m\u001b[0;34m)\u001b[0m\u001b[0;34m\u001b[0m\u001b[0;34m\u001b[0m\u001b[0m\n",
      "\u001b[0;31mKeyboardInterrupt\u001b[0m: "
     ]
    }
   ],
   "source": [
    "aproxsum()-aproxrest()"
   ]
  },
  {
   "cell_type": "code",
   "execution_count": 38,
   "id": "filled-supervisor",
   "metadata": {},
   "outputs": [],
   "source": [
    "k=15\n",
    "def newton():\n",
    "    pi=3*mp.sqrt(3)/4 +2\n",
    "    for i in range(1,k):\n",
    "        pi-= 3/4*((mp.factorial(2*i)/(mp.factorial(i)*mp.factorial(2*i-i)))/((i+1)*(2*i+5)*mp.power(16,i)))\n",
    "    return pi\n"
   ]
  },
  {
   "cell_type": "code",
   "execution_count": 39,
   "id": "emotional-listing",
   "metadata": {},
   "outputs": [
    {
     "data": {
      "text/plain": [
       "mpf('3.291592653590023104741036504417129956620260765853845331240358628581760736805173619152813879371064458404739977384062358575570673228855362477703123863837954103975542151389552383166125259900638813706602604496042408795885159771152045022478053081999479676608013986053632368371767235326164104705520212843198290936568915011570749214745898518967530342738895525354782012040989769304255584952468623883208856815721302220739830167418037088377264891436252174873567298985447719191351904317268783530098601851910508263269774226690921951358228915440805622462640463785325979038378192337824143196132018247682749290073113078818080413805041846582887142194436745812456082383010121802608045353371106146894078054587713927450960474793795305529644575930926711241671767128940146919512693304928015560263482671611292044687983175724656570160639476292385886025424278551916321769300470522974428124518422608675866910769025979768356814013861101857892016353589386566703140966175300547358331334613976603279347085118890360407497916444574132')"
      ]
     },
     "execution_count": 39,
     "metadata": {},
     "output_type": "execute_result"
    }
   ],
   "source": [
    "newton()"
   ]
  },
  {
   "cell_type": "code",
   "execution_count": null,
   "id": "dated-dispatch",
   "metadata": {},
   "outputs": [],
   "source": []
  }
 ],
 "metadata": {
  "kernelspec": {
   "display_name": "Python 3",
   "language": "python",
   "name": "python3"
  },
  "language_info": {
   "codemirror_mode": {
    "name": "ipython",
    "version": 3
   },
   "file_extension": ".py",
   "mimetype": "text/x-python",
   "name": "python",
   "nbconvert_exporter": "python",
   "pygments_lexer": "ipython3",
   "version": "3.9.2"
  }
 },
 "nbformat": 4,
 "nbformat_minor": 5
}
