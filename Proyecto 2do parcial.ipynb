{
 "cells": [
  {
   "cell_type": "markdown",
   "id": "corporate-triumph",
   "metadata": {},
   "source": [
    "# MOMENTO DE INERCIA DE UNA FIGURA IRREGULAR"
   ]
  },
  {
   "cell_type": "markdown",
   "id": "awful-natural",
   "metadata": {},
   "source": [
    "Se va a encontrar el momento de inercia de una figura irregular de dos dimensiones. En este caso se eligió la figura de un perro en las cuatro patas.\\\n",
    "\n",
    "Esto se va lograr convirtiendo una  imagen de  una figura irregular en python a matriz y posteriormente desde un eje encontrar el momento de inercia.\n",
    "\n",
    "Un momento de inercia es una magnitud escalar para representar la distribución de un sistema de particulas en rotación con respecto aun eje de rotación. \n",
    "Este moemnto de inercia solo depende de la geometría y posición del eje de giro del cuerpo y no de otras fuerzas que intervengan en el cuerpo. (Momentos de Inercia – Clases de Mecánica, s. f.). Y esta dado por:\n",
    "\n",
    "$\\int_{V}^{}\\rho r² \\,dV$\n",
    "\n",
    "En el caso de un sólido 3D se usa una idea más general de lo anterior mencionado, y se llama tensor de inercia, este es un tensor simétrico de segundo orden y es expresado por medio de una matriz simétrica.\n",
    "El tensor de inercia esta dado por:\n",
    "\n",
    "$ \\int_{V}^{} \\rho (r) [\\delta_{i,j}r²-x_i x_j] \\,d³r\\ $\n",
    "\n",
    "Donde $x_1,x_2,x_3$ son las coordenadas cartesianas rectangulares y $\\delta$ es la delta de Kromecker que es una matriz identidad (colaboradores de Wikipedia, 2024)"
   ]
  },
  {
   "cell_type": "markdown",
   "id": "direct-patient",
   "metadata": {},
   "source": [
    "Esta es la figura a la que se quiere encontrar el momento de inercia "
   ]
  },
  {
   "cell_type": "code",
   "execution_count": 83,
   "id": "subsequent-charles",
   "metadata": {},
   "outputs": [
    {
     "data": {
      "image/png": "[encoded data removed]",
      "text/plain": [
       "<Figure size 432x288 with 1 Axes>"
      ]
     },
     "metadata": {
      "needs_background": "light"
     },
     "output_type": "display_data"
    }
   ],
   "source": [
    "import matplotlib.pyplot as plt\n",
    "import matplotlib.image as mpimg\n",
    "img = mpimg.imread(\"silueta.png\")\n",
    "imgplot = plt.imshow(img)\n",
    "plt.show()"
   ]
  },
  {
   "cell_type": "code",
   "execution_count": 84,
   "id": "soviet-reverse",
   "metadata": {},
   "outputs": [],
   "source": [
    "import numpy as np\n",
    "from io import BytesIO\n",
    "from PIL import Image\n",
    "import PIL, requests"
   ]
  },
  {
   "cell_type": "code",
   "execution_count": 85,
   "id": "satisfied-drunk",
   "metadata": {},
   "outputs": [],
   "source": [
    "ruta_imagen= \"silueta.png\"\n",
    "imagen=Image.open(ruta_imagen)\n"
   ]
  },
  {
   "cell_type": "code",
   "execution_count": 86,
   "id": "forty-massachusetts",
   "metadata": {},
   "outputs": [],
   "source": [
    "matriz_img=np.array(imagen)"
   ]
  },
  {
   "cell_type": "code",
   "execution_count": 87,
   "id": "regional-template",
   "metadata": {},
   "outputs": [
    {
     "name": "stdout",
     "output_type": "stream",
     "text": [
      " El tamaño de la matriz es: (734, 980, 4)\n"
     ]
    }
   ],
   "source": [
    "print(f\" El tamaño de la matriz es: {matriz_img.shape}\")"
   ]
  },
  {
   "cell_type": "code",
   "execution_count": 89,
   "id": "civil-doubt",
   "metadata": {},
   "outputs": [
    {
     "name": "stdout",
     "output_type": "stream",
     "text": [
      "[[[255 255 255   0]\n",
      "  [255 255 255   0]\n",
      "  [255 255 255   0]\n",
      "  ...\n",
      "  [255 255 255   0]\n",
      "  [255 255 255   0]\n",
      "  [255 255 255   0]]\n",
      "\n",
      " [[255 255 255   0]\n",
      "  [255 255 255   0]\n",
      "  [255 255 255   0]\n",
      "  ...\n",
      "  [255 255 255   0]\n",
      "  [255 255 255   0]\n",
      "  [255 255 255   0]]\n",
      "\n",
      " [[255 255 255   0]\n",
      "  [255 255 255   0]\n",
      "  [255 255 255   0]\n",
      "  ...\n",
      "  [255 255 255   0]\n",
      "  [255 255 255   0]\n",
      "  [255 255 255   0]]\n",
      "\n",
      " ...\n",
      "\n",
      " [[255 255 255   0]\n",
      "  [255 255 255   0]\n",
      "  [255 255 255   0]\n",
      "  ...\n",
      "  [255 255 255   0]\n",
      "  [255 255 255   0]\n",
      "  [255 255 255   0]]\n",
      "\n",
      " [[255 255 255   0]\n",
      "  [255 255 255   0]\n",
      "  [255 255 255   0]\n",
      "  ...\n",
      "  [255 255 255   0]\n",
      "  [255 255 255   0]\n",
      "  [255 255 255   0]]\n",
      "\n",
      " [[255 255 255   0]\n",
      "  [255 255 255   0]\n",
      "  [255 255 255   0]\n",
      "  ...\n",
      "  [255 255 255   0]\n",
      "  [255 255 255   0]\n",
      "  [255 255 255   0]]]\n"
     ]
    }
   ],
   "source": [
    "print(f\"{matriz_img}\")"
   ]
  },
  {
   "cell_type": "code",
   "execution_count": 81,
   "id": "dangerous-enough",
   "metadata": {},
   "outputs": [
    {
     "data": {
      "text/plain": [
       "array([[1., 0., 0., ..., 0., 0., 0.],\n",
       "       [0., 1., 0., ..., 0., 0., 0.],\n",
       "       [0., 0., 1., ..., 0., 0., 0.],\n",
       "       ...,\n",
       "       [0., 0., 0., ..., 1., 0., 0.],\n",
       "       [0., 0., 0., ..., 0., 1., 0.],\n",
       "       [0., 0., 0., ..., 0., 0., 1.]])"
      ]
     },
     "execution_count": 81,
     "metadata": {},
     "output_type": "execute_result"
    }
   ],
   "source": [
    "np.identity(920)"
   ]
  },
  {
   "cell_type": "code",
   "execution_count": null,
   "id": "tamil-shannon",
   "metadata": {},
   "outputs": [],
   "source": []
  },
  {
   "cell_type": "markdown",
   "id": "restricted-brush",
   "metadata": {},
   "source": [
    "#### Referencias \n",
    "Momentos de inercia – clases de mecánica. (s. f.). https://clasesdemecanica.net/index.php/momentos-de-inercia/\n",
    "\n",
    "colaboradores de Wikipedia. (2024, 11 marzo). Momento de inercia. Wikipedia, la Enciclopedia Libre. https://es.wikipedia.org/wiki/Momento_de_inercia"
   ]
  },
  {
   "cell_type": "code",
   "execution_count": 82,
   "id": "living-diagram",
   "metadata": {},
   "outputs": [
    {
     "ename": "TypeError",
     "evalue": "'type' object is not subscriptable",
     "output_type": "error",
     "traceback": [
      "\u001b[0;31m---------------------------------------------------------------------------\u001b[0m",
      "\u001b[0;31mTypeError\u001b[0m                                 Traceback (most recent call last)",
      "\u001b[0;32m<ipython-input-82-8957db8af55e>\u001b[0m in \u001b[0;36m<module>\u001b[0;34m\u001b[0m\n\u001b[0;32m----> 1\u001b[0;31m \u001b[0;32mfor\u001b[0m \u001b[0mi\u001b[0m \u001b[0;32min\u001b[0m \u001b[0mrange\u001b[0m \u001b[0;34m[\u001b[0m\u001b[0;36m0\u001b[0m\u001b[0;34m,\u001b[0m\u001b[0;36m690\u001b[0m\u001b[0;34m]\u001b[0m\u001b[0;34m:\u001b[0m\u001b[0;34m\u001b[0m\u001b[0;34m\u001b[0m\u001b[0m\n\u001b[0m\u001b[1;32m      2\u001b[0m     \u001b[0;32mfor\u001b[0m \u001b[0mj\u001b[0m \u001b[0;32min\u001b[0m \u001b[0mrange\u001b[0m \u001b[0;34m[\u001b[0m\u001b[0;36m0\u001b[0m\u001b[0;34m,\u001b[0m\u001b[0;36m920\u001b[0m\u001b[0;34m]\u001b[0m\u001b[0;34m:\u001b[0m\u001b[0;34m\u001b[0m\u001b[0;34m\u001b[0m\u001b[0m\n\u001b[1;32m      3\u001b[0m         \u001b[0;32mif\u001b[0m \u001b[0mmatriz_imag\u001b[0m\u001b[0;34m[\u001b[0m\u001b[0mi\u001b[0m\u001b[0;34m]\u001b[0m\u001b[0;34m[\u001b[0m\u001b[0mj\u001b[0m\u001b[0;34m]\u001b[0m\u001b[0;34m==\u001b[0m\u001b[0;36m1\u001b[0m\u001b[0;34m:\u001b[0m\u001b[0;34m\u001b[0m\u001b[0;34m\u001b[0m\u001b[0m\n\u001b[1;32m      4\u001b[0m             \u001b[0mp\u001b[0m\u001b[0;34m=\u001b[0m\u001b[0;36m1\u001b[0m\u001b[0;34m\u001b[0m\u001b[0;34m\u001b[0m\u001b[0m\n\u001b[1;32m      5\u001b[0m \u001b[0;34m\u001b[0m\u001b[0m\n",
      "\u001b[0;31mTypeError\u001b[0m: 'type' object is not subscriptable"
     ]
    }
   ],
   "source": [
    "for i in range [0,690]:\n",
    "    for j in range [0,920]:\n",
    "        if matriz_imag[i][j]==1:\n",
    "            p=1\n",
    "            "
   ]
  }
 ],
 "metadata": {
  "kernelspec": {
   "display_name": "Python 3",
   "language": "python",
   "name": "python3"
  },
  "language_info": {
   "codemirror_mode": {
    "name": "ipython",
    "version": 3
   },
   "file_extension": ".py",
   "mimetype": "text/x-python",
   "name": "python",
   "nbconvert_exporter": "python",
   "pygments_lexer": "ipython3",
   "version": "3.9.2"
  }
 },
 "nbformat": 4,
 "nbformat_minor": 5
}
