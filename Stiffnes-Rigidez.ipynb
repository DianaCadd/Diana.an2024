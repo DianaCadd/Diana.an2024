{
 "cells": [
  {
   "cell_type": "markdown",
   "id": "heard-cambridge",
   "metadata": {},
   "source": [
    "\"Mal condicionamiento\"\n",
    "\n",
    "Ocurre en dos escalas muy diferentes como cuando decrece muy rápido. Se usa cuando \n",
    "\n",
    "1.- Pasas ecuaciones de orden n y las pasas a n ecuaciones de primer orden\n",
    "\n",
    "2.- Ya que en el Rugen no puedes usar valores a la frontera se establece una ecuación de segundo orden adelante defines variables por cada derivada y la última ya es la más complicada porque es la suma \n",
    "\n",
    "\n",
    "\n"
   ]
  },
  {
   "cell_type": "markdown",
   "id": "atlantic-privacy",
   "metadata": {},
   "source": [
    "Teniendo un problema de valor incial \n",
    "$y^{\\alpha}(x_0)=y^{\\alpha}_0$\n",
    "\n",
    "\n",
    "Resolver la ecuación delpéndulo simple por el Rugen para cualquier ángulo"
   ]
  },
  {
   "cell_type": "code",
   "execution_count": 1,
   "id": "upper-gross",
   "metadata": {},
   "outputs": [],
   "source": [
    "import sympy as sy \n",
    "import numpy as np\n",
    "\n",
    "theta=0\n",
    "w=0\n",
    "g=9.81\n",
    "R=0.5\n",
    "def devtheta(w):\n",
    "    return w\n",
    "def devw(theta):\n",
    "    return -g/R * np.sin(theta)\n",
    "\n",
    "def rk4(f,a,b,n,yinit):\n",
    "    h = (b-a)/(n-1)\n",
    "    xs = a + np.arange(n)*h\n",
    "    ys = np.zeros(n)\n",
    "    y = yinit\n",
    "    for j,x in enumerate(xs):\n",
    "        ys[j] = y\n",
    "        k0 = h*f(x, y)\n",
    "        k1 = h*f(x+h/2, y+k0/2)\n",
    "        k2 = h*f(x+h/2, y+k1/2)\n",
    "        k3 = h*f(x+h, y+k2)\n",
    "        y += (k0 + 2*k1 + 2*k2 + k3)/6\n",
    "    return xs, ys"
   ]
  },
  {
   "cell_type": "code",
   "execution_count": null,
   "id": "golden-quilt",
   "metadata": {},
   "outputs": [],
   "source": []
  }
 ],
 "metadata": {
  "kernelspec": {
   "display_name": "Python 3",
   "language": "python",
   "name": "python3"
  },
  "language_info": {
   "codemirror_mode": {
    "name": "ipython",
    "version": 3
   },
   "file_extension": ".py",
   "mimetype": "text/x-python",
   "name": "python",
   "nbconvert_exporter": "python",
   "pygments_lexer": "ipython3",
   "version": "3.9.2"
  }
 },
 "nbformat": 4,
 "nbformat_minor": 5
}
