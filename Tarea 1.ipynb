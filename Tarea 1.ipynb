{
 "cells": [
  {
   "cell_type": "code",
   "execution_count": 3,
   "id": "7f208c01",
   "metadata": {},
   "outputs": [],
   "source": [
    "import numpy as np\n",
    "import sympy as sy\n",
    "import matplotlib.pyplot as plt\n"
   ]
  },
  {
   "cell_type": "code",
   "execution_count": 31,
   "id": "26c99177",
   "metadata": {},
   "outputs": [
    {
     "name": "stdout",
     "output_type": "stream",
     "text": [
      "1 + x + 3*x**2/2 + x**3/6 - 7*x**4/24 + x**5/120 + O(x**6)\n"
     ]
    }
   ],
   "source": [
    "tolerancia=0.1\n",
    "rango=([-1,1])\n",
    "x=sy.symbols('x')\n",
    "f=sy.exp(x)+(sy.sin(x))**2\n",
    "g=sy.series(f,x,0)\n",
    "print (g)"
   ]
  },
  {
   "cell_type": "code",
   "execution_count": 32,
   "id": "57a176dd",
   "metadata": {},
   "outputs": [
    {
     "name": "stdout",
     "output_type": "stream",
     "text": [
      "O(x**6)\n"
     ]
    }
   ],
   "source": [
    "order=g.getO()\n",
    "print (order)"
   ]
  },
  {
   "cell_type": "code",
   "execution_count": 33,
   "id": "d557f64c",
   "metadata": {},
   "outputs": [
    {
     "name": "stdout",
     "output_type": "stream",
     "text": [
      "x**5/120 - 7*x**4/24 + x**3/6 + 3*x**2/2 + x + 1\n"
     ]
    }
   ],
   "source": [
    "gx=g.removeO()\n",
    "print (gx)\n"
   ]
  },
  {
   "cell_type": "code",
   "execution_count": 34,
   "id": "390972c2",
   "metadata": {},
   "outputs": [],
   "source": [
    "g2=sy.lambdify(x,gx)\n",
    "f2=sy.lambdify(x,f)"
   ]
  },
  {
   "cell_type": "code",
   "execution_count": 35,
   "id": "8fa4c934",
   "metadata": {},
   "outputs": [
    {
     "data": {
      "text/plain": [
       "1.8778645833333334"
      ]
     },
     "execution_count": 35,
     "metadata": {},
     "output_type": "execute_result"
    }
   ],
   "source": [
    "g2(0.5)\n"
   ]
  },
  {
   "cell_type": "code",
   "execution_count": 36,
   "id": "8f6a5041",
   "metadata": {},
   "outputs": [
    {
     "data": {
      "text/plain": [
       "1.8785701177660583"
      ]
     },
     "execution_count": 36,
     "metadata": {},
     "output_type": "execute_result"
    }
   ],
   "source": [
    "f2(0.5)\n"
   ]
  },
  {
   "cell_type": "code",
   "execution_count": 37,
   "id": "c3229ac8",
   "metadata": {},
   "outputs": [
    {
     "name": "stdout",
     "output_type": "stream",
     "text": [
      "0.0007055344327249191\n"
     ]
    }
   ],
   "source": [
    "eabs=f2(0.5)-g2(0.5)\n",
    "print (eabs)"
   ]
  },
  {
   "cell_type": "code",
   "execution_count": 43,
   "id": "44db8bd9",
   "metadata": {},
   "outputs": [
    {
     "name": "stdout",
     "output_type": "stream",
     "text": [
      "0.0003755699220660022\n"
     ]
    }
   ],
   "source": [
    "erel=eabs/f2(0.5)\n",
    "print(erel)"
   ]
  },
  {
   "cell_type": "code",
   "execution_count": 47,
   "id": "67a4af01",
   "metadata": {},
   "outputs": [
    {
     "name": "stdout",
     "output_type": "stream",
     "text": [
      "9\n",
      "0.0007055344327249191\n"
     ]
    }
   ],
   "source": [
    "tolerancia=0.1\n",
    "f=sy.exp(x)+(sy.sin(x))**2\n",
    "f2=sy.lambdify(x,f)\n",
    "for i in range (1,10):\n",
    "    g_1=sy.series(f,x,0,i)\n",
    "    g_2=g_1.removeO()\n",
    "    g_3=sy.lambdify(x,g_2)\n",
    "    eabs1=f2(0.5)-g_3(0.5)\n",
    "    if tolerancia<=eabs:\n",
    "        break\n",
    "print (i)\n",
    "print (eabs)\n"
   ]
  },
  {
   "cell_type": "code",
   "execution_count": null,
   "id": "b5141e8c",
   "metadata": {},
   "outputs": [],
   "source": []
  }
 ],
 "metadata": {
  "kernelspec": {
   "display_name": "Python 3 (ipykernel)",
   "language": "python",
   "name": "python3"
  },
  "language_info": {
   "codemirror_mode": {
    "name": "ipython",
    "version": 3
   },
   "file_extension": ".py",
   "mimetype": "text/x-python",
   "name": "python",
   "nbconvert_exporter": "python",
   "pygments_lexer": "ipython3",
   "version": "3.9.12"
  }
 },
 "nbformat": 4,
 "nbformat_minor": 5
}
